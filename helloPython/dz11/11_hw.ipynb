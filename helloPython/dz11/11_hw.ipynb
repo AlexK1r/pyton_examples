{
 "cells": [
  {
   "attachments": {},
   "cell_type": "markdown",
   "metadata": {},
   "source": [
    "ДЗ 11\n",
    "\n",
    "f(x) = -12x^4*sin(cos(x)) - 18x^3+5x^2 + 10x - 30\n",
    "\n",
    "- Определить корни\n",
    "- Найти интервалы, на которых функция возрастает\n",
    "- Найти интервалы, на которых функция убывает\n",
    "- Построить график\n",
    "- Вычислить вершину\n",
    "- Определить промежутки, на котором f > 0\n",
    "- Определить промежутки, на котором f < 0"
   ]
  },
  {
   "cell_type": "code",
   "execution_count": 27,
   "metadata": {},
   "outputs": [
    {
     "data": {
      "text/latex": [
       "$\\displaystyle - 12 x^{4} \\sin{\\left(\\cos{\\left(x \\right)} \\right)} - 18 x^{3} + 5 x^{2} + 10 x - 30$"
      ],
      "text/plain": [
       "-12*x**4*sin(cos(x)) - 18*x**3 + 5*x**2 + 10*x - 30"
      ]
     },
     "execution_count": 27,
     "metadata": {},
     "output_type": "execute_result"
    }
   ],
   "source": [
    "from sympy import *\n",
    "from sympy.plotting import plot\n",
    "\n",
    "x = Symbol('x')\n",
    "y = -12 * (x**4) * sin(cos(x)) - 18 * (x**3) + 5 * (x**2) + 10*x - 30\n",
    "y"
   ]
  },
  {
   "attachments": {},
   "cell_type": "markdown",
   "metadata": {},
   "source": [
    "Определяем корни"
   ]
  },
  {
   "cell_type": "code",
   "execution_count": 28,
   "metadata": {},
   "outputs": [
    {
     "data": {
      "text/latex": [
       "$\\displaystyle \\left\\{\\left( \\left\\{x\\; \\middle|\\; x \\in \\mathbb{C} \\wedge - 12 x^{4} \\sin{\\left(\\cos{\\left(x \\right)} \\right)} - 18 x^{3} + 5 x^{2} + 10 x - 30 = 0 \\right\\},\\right)\\right\\}$"
      ],
      "text/plain": [
       "{(ConditionSet(x, Eq(-12*x**4*sin(cos(x)) - 18*x**3 + 5*x**2 + 10*x - 30, 0), Complexes),)}"
      ]
     },
     "execution_count": 28,
     "metadata": {},
     "output_type": "execute_result"
    }
   ],
   "source": [
    "nonlinsolve([y], x)"
   ]
  },
  {
   "attachments": {},
   "cell_type": "markdown",
   "metadata": {},
   "source": [
    "Поиск интервалов где функция возрастает"
   ]
  },
  {
   "cell_type": "code",
   "execution_count": 29,
   "metadata": {},
   "outputs": [
    {
     "data": {
      "text/latex": [
       "$\\displaystyle \\left\\{x\\; \\middle|\\; x \\in \\mathbb{C} \\wedge - 12 x^{4} \\sin{\\left(\\cos{\\left(x \\right)} \\right)} - 18 x^{3} + 5 x^{2} + 10 x - 30 > 0 \\right\\}$"
      ],
      "text/plain": [
       "ConditionSet(x, -12*x**4*sin(cos(x)) - 18*x**3 + 5*x**2 + 10*x - 30 > 0, Complexes)"
      ]
     },
     "execution_count": 29,
     "metadata": {},
     "output_type": "execute_result"
    }
   ],
   "source": [
    "solveset(y>0)"
   ]
  },
  {
   "attachments": {},
   "cell_type": "markdown",
   "metadata": {},
   "source": [
    "Поиск интервалов где функция убывает"
   ]
  },
  {
   "cell_type": "code",
   "execution_count": 30,
   "metadata": {},
   "outputs": [
    {
     "data": {
      "text/latex": [
       "$\\displaystyle \\left\\{x\\; \\middle|\\; x \\in \\mathbb{C} \\wedge - 12 x^{4} \\sin{\\left(\\cos{\\left(x \\right)} \\right)} - 18 x^{3} + 5 x^{2} + 10 x - 30 < 0 \\right\\}$"
      ],
      "text/plain": [
       "ConditionSet(x, -12*x**4*sin(cos(x)) - 18*x**3 + 5*x**2 + 10*x - 30 < 0, Complexes)"
      ]
     },
     "execution_count": 30,
     "metadata": {},
     "output_type": "execute_result"
    }
   ],
   "source": [
    "solveset(y<0)"
   ]
  },
  {
   "attachments": {},
   "cell_type": "markdown",
   "metadata": {},
   "source": [
    "график функции"
   ]
  },
  {
   "cell_type": "code",
   "execution_count": 26,
   "metadata": {},
   "outputs": [
    {
     "name": "stdout",
     "output_type": "stream",
     "text": [
      "  5e+08 | .  .                                             .    \n",
      "        |                                                     . \n",
      "        |                                                       \n",
      "        |      .                                         .      \n",
      "        |                                                       \n",
      "        |         . .                                 .         \n",
      "        |  .                                        .        .  \n",
      "        |             .. ....................... ..             \n",
      "        |       ..   .  .                       .  .    .       \n",
      "        |          .                                 . .        \n",
      " -2e+08 |-------------------------------------------------------\n",
      "        |                                                       \n",
      "        |                                                       \n",
      "        |   . .                                             .   \n",
      "        |                                                 .     \n",
      "        |                                                       \n",
      "        |                                                       \n",
      "        |                                                       \n",
      "        |                                                       \n",
      "        |                                                       \n",
      " -9e+08 |_______________________________________________________\n",
      "         -100                       0                          100\n"
     ]
    }
   ],
   "source": [
    "graph = plot(y, (x,-100, 100))"
   ]
  },
  {
   "attachments": {},
   "cell_type": "markdown",
   "metadata": {},
   "source": [
    "Вершины"
   ]
  },
  {
   "cell_type": "code",
   "execution_count": 31,
   "metadata": {},
   "outputs": [
    {
     "data": {
      "text/latex": [
       "$\\displaystyle \\left\\{\\left( \\left\\{x\\; \\middle|\\; x \\in \\mathbb{C} \\wedge 12 x^{4} \\sin{\\left(x \\right)} \\cos{\\left(\\cos{\\left(x \\right)} \\right)} - 48 x^{3} \\sin{\\left(\\cos{\\left(x \\right)} \\right)} - 54 x^{2} + 10 x + 10 = 0 \\right\\},\\right)\\right\\}$"
      ],
      "text/plain": [
       "{(ConditionSet(x, Eq(12*x**4*sin(x)*cos(cos(x)) - 48*x**3*sin(cos(x)) - 54*x**2 + 10*x + 10, 0), Complexes),)}"
      ]
     },
     "execution_count": 31,
     "metadata": {},
     "output_type": "execute_result"
    }
   ],
   "source": [
    "pr_expr = y.diff(x)\n",
    "nonlinsolve([pr_expr],[x])"
   ]
  },
  {
   "attachments": {},
   "cell_type": "markdown",
   "metadata": {},
   "source": [
    "Промежутки где f > 0"
   ]
  },
  {
   "cell_type": "code",
   "execution_count": 14,
   "metadata": {},
   "outputs": [
    {
     "data": {
      "text/latex": [
       "$\\displaystyle \\left\\{x\\; \\middle|\\; x \\in \\mathbb{C} \\wedge - 12 x^{4} \\sin{\\left(\\cos{\\left(x \\right)} \\right)} - 18 x^{3} + 5 x^{2} + 10 x - 30 > 0 \\right\\}$"
      ],
      "text/plain": [
       "ConditionSet(x, -12*x**4*sin(cos(x)) - 18*x**3 + 5*x**2 + 10*x - 30 > 0, Complexes)"
      ]
     },
     "execution_count": 14,
     "metadata": {},
     "output_type": "execute_result"
    }
   ],
   "source": [
    "solveset(y>0)"
   ]
  },
  {
   "attachments": {},
   "cell_type": "markdown",
   "metadata": {},
   "source": [
    "Промежутки где f < 0"
   ]
  },
  {
   "cell_type": "code",
   "execution_count": 32,
   "metadata": {},
   "outputs": [
    {
     "data": {
      "text/latex": [
       "$\\displaystyle \\left\\{x\\; \\middle|\\; x \\in \\mathbb{C} \\wedge - 12 x^{4} \\sin{\\left(\\cos{\\left(x \\right)} \\right)} - 18 x^{3} + 5 x^{2} + 10 x - 30 < 0 \\right\\}$"
      ],
      "text/plain": [
       "ConditionSet(x, -12*x**4*sin(cos(x)) - 18*x**3 + 5*x**2 + 10*x - 30 < 0, Complexes)"
      ]
     },
     "execution_count": 32,
     "metadata": {},
     "output_type": "execute_result"
    }
   ],
   "source": [
    "solveset(y<0)"
   ]
  }
 ],
 "metadata": {
  "kernelspec": {
   "display_name": "Python 3",
   "language": "python",
   "name": "python3"
  },
  "language_info": {
   "codemirror_mode": {
    "name": "ipython",
    "version": 3
   },
   "file_extension": ".py",
   "mimetype": "text/x-python",
   "name": "python",
   "nbconvert_exporter": "python",
   "pygments_lexer": "ipython3",
   "version": "3.11.1"
  },
  "orig_nbformat": 4,
  "vscode": {
   "interpreter": {
    "hash": "de47f5c92c0ee6f12a59a5613ac5feff6aab19ddff207ba0b3964cced08c4ccc"
   }
  }
 },
 "nbformat": 4,
 "nbformat_minor": 2
}
